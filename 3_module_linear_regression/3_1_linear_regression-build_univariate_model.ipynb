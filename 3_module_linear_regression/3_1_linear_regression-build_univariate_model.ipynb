{
 "cells": [
  {
   "cell_type": "markdown",
   "metadata": {
    "toc": true
   },
   "source": [
    "<h1>Table of Contents<span class=\"tocSkip\"></span></h1>\n",
    "<div class=\"toc\"><ul class=\"toc-item\"><li><span><a href=\"#Linear-Regression\" data-toc-modified-id=\"Linear-Regression-1\">Linear Regression</a></span><ul class=\"toc-item\"><li><span><a href=\"#1)-Import-packages\" data-toc-modified-id=\"1)-Import-packages-1.1\">1) Import packages</a></span></li><li><span><a href=\"#2)-Load-Data\" data-toc-modified-id=\"2)-Load-Data-1.2\">2) Load Data</a></span></li><li><span><a href=\"#Build-Univariate-Linear-Regression\" data-toc-modified-id=\"Build-Univariate-Linear-Regression-1.3\">Build Univariate Linear Regression</a></span><ul class=\"toc-item\"><li><span><a href=\"#Train---Test-split\" data-toc-modified-id=\"Train---Test-split-1.3.1\">Train - Test split</a></span></li><li><span><a href=\"#Univariate-Linear-Regression\" data-toc-modified-id=\"Univariate-Linear-Regression-1.3.2\">Univariate Linear Regression</a></span></li></ul></li><li><span><a href=\"#Model-interpretation\" data-toc-modified-id=\"Model-interpretation-1.4\">Model interpretation</a></span></li></ul></li></ul></div>"
   ]
  },
  {
   "cell_type": "markdown",
   "metadata": {},
   "source": [
    "# Linear Regression\n",
    "\n",
    "<a href=\"https://drive.google.com/file/d/1EZ_xqMaYj77vErVnrQmnFOj-VBEoO5uW/view\" target=\"_blank\">\n",
    "     <img src=\"http://www.deltanalytics.org/uploads/2/6/1/4/26140521/screen-shot-2019-01-05-at-4-48-29-pm_orig.png\" width=\"500\" height=\"400\">\n",
    "</a>\n",
    "\n",
    "Linear Regression attempts to predict a continuous outcome feature (**Y**) from one or more explanatory features (**X**).  \n",
    "\n",
    "$$Y = \\beta_0 + \\beta_1 X$$\n",
    "\n",
    "$\\beta_0$ is called the intercept term, and represents the expected mean value of Y when all explanatory features equal 0.  \n",
    "$\\beta_1$ is called a beta coefficient, and represents the expected change in the value of Y that results from a one unit change in X.  \n",
    "\n",
    "Below is an example of a linear regression with only one explanatory feature. The red dots indicate the actual data, and the blue line represents the predicted **Y** values based on the provided **X** values.  $\\beta_0$ appears to equals 0, and $\\beta_1$ appears to equal 2.\n",
    "<img src=\"./images/LinearRegression.png\" alt=\"Go Find Missing Image\" style=\"width: 500px;height=500\"/>\n",
    "\n",
    "In this lab, we will attempt to construct a linear regression in order to answer a question that Kiva borrowers may have: \n",
    "\n",
    "**What impacts the loan amount requested? **\n",
    "\n",
    "To ensure that our linear regressor is appropriate and interpretable, we will have to confirm the following assumptions are not violated:\n",
    "\n",
    "1. Linear relationship between x and y - We can draw a line or curve within the relationship\n",
    "2. Normality - A normal curve, a histogram of the values should look like a bell\n",
    "3. Minimal multicollinearity (if multiple variables) - Each variable should introduce **new** information\n",
    "4. No autocorrelation - No relationship **within** a variable depending on the time/magnitude scale\n",
    "5. Homoscedasticity - The variation in the error of the model should not be increasing as the variation in the data increases\n",
    "\n",
    "- Additional rule of thumb: at least 20 observations per independent variable in the analysis\n",
    "  \n",
    "If these assumptions are violated, then the predictive power of the linear regression is still valid but the information concerning the most important features is not. It is important to keep this in mind!\n",
    "\n",
    "\n",
    "Here's a look ahead at what we'll be doing in these series of notebooks: \n",
    "\n",
    "2.1 Load Data and Build Univariate Linear Regression        \n",
    "2.2 Check Assumptions  \n",
    "2.3 Build Multivariate Linear Regression  \n",
    "2.4 Model Evaluation"
   ]
  },
  {
   "cell_type": "markdown",
   "metadata": {},
   "source": [
    "1) Import packages\n",
    "-----"
   ]
  },
  {
   "cell_type": "code",
   "execution_count": 3,
   "metadata": {},
   "outputs": [],
   "source": [
    "# Generally useful data science packages\n",
    "import numpy as np\n",
    "import pandas as pd\n",
    "\n",
    "# Plotting package\n",
    "import matplotlib.pyplot as plt\n",
    "%matplotlib inline\n",
    "from pandas.plotting import scatter_matrix\n",
    "import seaborn as sns\n",
    "plt.rcParams['figure.figsize'] = (12, 8)\n",
    "sns.set()\n",
    "sns.set(font_scale=1.5)\n",
    "\n",
    "# We'll be using statsmodels to fit linear regression\n",
    "import statsmodels.api as sm\n",
    "\n",
    "# Packages for checking assumptions\n",
    "from scipy import stats as stats\n",
    "from sklearn.model_selection import train_test_split, cross_val_score\n",
    "from sklearn.metrics import mean_squared_error, make_scorer\n",
    "\n",
    "# Set jupyter notebook preferences\n",
    "# the command below means that the output of multiple commands in a cell will be output at once.\n",
    "from IPython.core.interactiveshell import InteractiveShell\n",
    "InteractiveShell.ast_node_interactivity = \"all\"\n",
    "# the command below tells jupyter to display up to 100 columns, this keeps everything visible\n",
    "pd.set_option('display.max_columns', 100)\n",
    "pd.set_option('expand_frame_repr', True)"
   ]
  },
  {
   "cell_type": "markdown",
   "metadata": {},
   "source": [
    "2) Load Data\n",
    "-----"
   ]
  },
  {
   "cell_type": "code",
   "execution_count": 4,
   "metadata": {},
   "outputs": [
    {
     "data": {
      "text/html": [
       "<div>\n",
       "<style scoped>\n",
       "    .dataframe tbody tr th:only-of-type {\n",
       "        vertical-align: middle;\n",
       "    }\n",
       "\n",
       "    .dataframe tbody tr th {\n",
       "        vertical-align: top;\n",
       "    }\n",
       "\n",
       "    .dataframe thead th {\n",
       "        text-align: right;\n",
       "    }\n",
       "</style>\n",
       "<table border=\"1\" class=\"dataframe\">\n",
       "  <thead>\n",
       "    <tr style=\"text-align: right;\">\n",
       "      <th></th>\n",
       "      <th>id_number</th>\n",
       "      <th>loan_amount</th>\n",
       "      <th>lender_count</th>\n",
       "      <th>status</th>\n",
       "      <th>funded_date</th>\n",
       "      <th>funded_amount</th>\n",
       "      <th>repayment_term</th>\n",
       "      <th>location_country_code</th>\n",
       "      <th>sector</th>\n",
       "      <th>description</th>\n",
       "      <th>use</th>\n",
       "    </tr>\n",
       "  </thead>\n",
       "  <tbody>\n",
       "    <tr>\n",
       "      <th>0</th>\n",
       "      <td>736066</td>\n",
       "      <td>4825</td>\n",
       "      <td>60</td>\n",
       "      <td>funded</td>\n",
       "      <td>2014-08-03T17:51:50Z</td>\n",
       "      <td>4825</td>\n",
       "      <td>8</td>\n",
       "      <td>BJ</td>\n",
       "      <td>Retail</td>\n",
       "      <td>NaN</td>\n",
       "      <td>NaN</td>\n",
       "    </tr>\n",
       "    <tr>\n",
       "      <th>1</th>\n",
       "      <td>743090</td>\n",
       "      <td>975</td>\n",
       "      <td>34</td>\n",
       "      <td>funded</td>\n",
       "      <td>2014-08-18T09:10:54Z</td>\n",
       "      <td>975</td>\n",
       "      <td>12</td>\n",
       "      <td>BJ</td>\n",
       "      <td>Food</td>\n",
       "      <td>NaN</td>\n",
       "      <td>NaN</td>\n",
       "    </tr>\n",
       "    <tr>\n",
       "      <th>2</th>\n",
       "      <td>743120</td>\n",
       "      <td>950</td>\n",
       "      <td>25</td>\n",
       "      <td>funded</td>\n",
       "      <td>2014-08-09T17:46:35Z</td>\n",
       "      <td>950</td>\n",
       "      <td>14</td>\n",
       "      <td>BJ</td>\n",
       "      <td>Services</td>\n",
       "      <td>NaN</td>\n",
       "      <td>NaN</td>\n",
       "    </tr>\n",
       "    <tr>\n",
       "      <th>3</th>\n",
       "      <td>743121</td>\n",
       "      <td>825</td>\n",
       "      <td>28</td>\n",
       "      <td>funded</td>\n",
       "      <td>2014-08-24T17:00:38Z</td>\n",
       "      <td>825</td>\n",
       "      <td>14</td>\n",
       "      <td>BJ</td>\n",
       "      <td>Retail</td>\n",
       "      <td>NaN</td>\n",
       "      <td>NaN</td>\n",
       "    </tr>\n",
       "    <tr>\n",
       "      <th>4</th>\n",
       "      <td>743124</td>\n",
       "      <td>725</td>\n",
       "      <td>21</td>\n",
       "      <td>funded</td>\n",
       "      <td>2014-08-25T03:24:54Z</td>\n",
       "      <td>725</td>\n",
       "      <td>13</td>\n",
       "      <td>BJ</td>\n",
       "      <td>Retail</td>\n",
       "      <td>NaN</td>\n",
       "      <td>NaN</td>\n",
       "    </tr>\n",
       "  </tbody>\n",
       "</table>\n",
       "</div>"
      ],
      "text/plain": [
       "   id_number  loan_amount  lender_count  status           funded_date  \\\n",
       "0     736066         4825            60  funded  2014-08-03T17:51:50Z   \n",
       "1     743090          975            34  funded  2014-08-18T09:10:54Z   \n",
       "2     743120          950            25  funded  2014-08-09T17:46:35Z   \n",
       "3     743121          825            28  funded  2014-08-24T17:00:38Z   \n",
       "4     743124          725            21  funded  2014-08-25T03:24:54Z   \n",
       "\n",
       "   funded_amount  repayment_term location_country_code    sector description  \\\n",
       "0           4825               8                    BJ    Retail         NaN   \n",
       "1            975              12                    BJ      Food         NaN   \n",
       "2            950              14                    BJ  Services         NaN   \n",
       "3            825              14                    BJ    Retail         NaN   \n",
       "4            725              13                    BJ    Retail         NaN   \n",
       "\n",
       "   use  \n",
       "0  NaN  \n",
       "1  NaN  \n",
       "2  NaN  \n",
       "3  NaN  \n",
       "4  NaN  "
      ]
     },
     "execution_count": 4,
     "metadata": {},
     "output_type": "execute_result"
    }
   ],
   "source": [
    "# Load data\n",
    "\n",
    "try: \n",
    "    # Local version\n",
    "    path = \"../data/\"\n",
    "    filename = 'loans.csv'\n",
    "    df = pd.read_csv(path+filename)\n",
    "except FileNotFoundError or ParserError: \n",
    "    # If not local, get from remote repp. Helpful if using colab.\n",
    "    url = 'https://raw.githubusercontent.com/DeltaAnalytics/machine_learning_for_good_data/master/loans.csv'\n",
    "    df = pd.read_csv(url)\n",
    "    \n",
    "# It always a good to visually inspect the data\n",
    "df.head()"
   ]
  },
  {
   "cell_type": "markdown",
   "metadata": {},
   "source": [
    "Build Univariate Linear Regression\n",
    "-----"
   ]
  },
  {
   "cell_type": "markdown",
   "metadata": {},
   "source": [
    "### Train - Test split\n",
    "\n",
    "Prior to building our model, we first need to split our dataset into a training set and a test set.  We will use our training set to train our regressor, and we will use our test set for model validation.\n",
    "To achieve this, we will use call sklearn's [train_test_split](http://scikit-learn.org/stable/modules/generated/sklearn.model_selection.train_test_split.html), and set the input parameter `test_size` to .2 so that 20% of the data will be assigned to the test set and 80% of the data will be assigned to the training set.\n",
    "\n",
    "**We set the test set aside and only look at this at the end to evaluate the models performance on unseen data.**\n",
    "\n",
    "*Why do we do this?* We do this in order to ensure that we do not test on what the model has already learned from. This way, we are not simply solving for the data we *know* about and we can check if our model is applicable when we do not know the output values. As a result, we can also check for **overfitting** the training data.\n",
    "\n",
    "We fix the random state so that each time we run the train_test_split code, we get the same distribution of data. This is important as keeping the data split constant allows us to compare results from different sessions. "
   ]
  },
  {
   "cell_type": "code",
   "execution_count": 5,
   "metadata": {},
   "outputs": [
    {
     "data": {
      "text/plain": [
       "['id_number',\n",
       " 'loan_amount',\n",
       " 'lender_count',\n",
       " 'status',\n",
       " 'funded_date',\n",
       " 'funded_amount',\n",
       " 'repayment_term',\n",
       " 'location_country_code',\n",
       " 'sector',\n",
       " 'description',\n",
       " 'use']"
      ]
     },
     "execution_count": 5,
     "metadata": {},
     "output_type": "execute_result"
    }
   ],
   "source": [
    "df.columns.tolist()"
   ]
  },
  {
   "cell_type": "code",
   "execution_count": 6,
   "metadata": {},
   "outputs": [],
   "source": [
    "pd.options.mode.chained_assignment = None  # default='warn'\n",
    "\n",
    "# Define our dependent variable\n",
    "y_column = 'loan_amount'\n",
    "y = df[y_column]\n",
    "# Define our independent variables\n",
    "x_columns = ['lender_count']\n",
    "X = df[x_columns]\n",
    "# Add an intercept term to the independent variables. This is needed in order to include the constant term from\n",
    "# linear regression equation.\n",
    "X['intercept'] = 1\n",
    "# Split our data into training and test data sets\n",
    "X_train, X_test, y_train, y_test = train_test_split(X, y, test_size=0.2, random_state=42)"
   ]
  },
  {
   "cell_type": "markdown",
   "metadata": {},
   "source": [
    "### Univariate Linear Regression\n",
    "In order to build our linear regressor, we will use [statsmodels](http://www.statsmodels.org/dev/generated/statsmodels.regression.linear_model.OLS.html) implementation.  The are other implementations out there; however, we will use statmodels because it creates a nice summary table for model evaluation. Let's print out the summary table to demonstrate how easy it is to train the model and see the results.\n",
    "\n",
    "*Why **regression**?* In this case, we are not classifying an attribute of the loan request, we are predicting the **amount** requested which is a *continuous variable*.\n",
    "\n",
    "*What does **univariate** mean?* Univariate breaks down into \"uni\" which means single and \"variate\" which looks a lot like \"variable\" - therefore, univariate means our prediction is based on just one variable! \n",
    "\n",
    "Think about the formula we introduced at the top of this notebook, what gives away that we are only using **one** variable in this case?\n",
    "\n",
    "For an in-depth review on all the statistics and numbers given in the summary below, check out this [awesome page!](http://connor-johnson.com/2014/02/18/linear-regression-with-python/)"
   ]
  },
  {
   "cell_type": "code",
   "execution_count": 7,
   "metadata": {},
   "outputs": [
    {
     "name": "stdout",
     "output_type": "stream",
     "text": [
      "                            OLS Regression Results                            \n",
      "==============================================================================\n",
      "Dep. Variable:            loan_amount   R-squared:                       0.811\n",
      "Model:                            OLS   Adj. R-squared:                  0.811\n",
      "Method:                 Least Squares   F-statistic:                 2.059e+04\n",
      "Date:                Mon, 22 Mar 2021   Prob (F-statistic):               0.00\n",
      "Time:                        12:57:47   Log-Likelihood:                -40440.\n",
      "No. Observations:                4815   AIC:                         8.088e+04\n",
      "Df Residuals:                    4813   BIC:                         8.090e+04\n",
      "Df Model:                           1                                         \n",
      "Covariance Type:            nonrobust                                         \n",
      "================================================================================\n",
      "                   coef    std err          t      P>|t|      [0.025      0.975]\n",
      "--------------------------------------------------------------------------------\n",
      "lender_count    31.2180      0.218    143.497      0.000      30.791      31.644\n",
      "intercept      385.4127     17.292     22.289      0.000     351.513     419.312\n",
      "==============================================================================\n",
      "Omnibus:                     3777.706   Durbin-Watson:                   2.006\n",
      "Prob(Omnibus):                  0.000   Jarque-Bera (JB):            70703.467\n",
      "Skew:                           3.735   Prob(JB):                         0.00\n",
      "Kurtosis:                      20.222   Cond. No.                         88.7\n",
      "==============================================================================\n",
      "\n",
      "Notes:\n",
      "[1] Standard Errors assume that the covariance matrix of the errors is correctly specified.\n"
     ]
    }
   ],
   "source": [
    "model = sm.OLS(endog=y_train, exog=X_train)\n",
    "model_fit = model.fit()\n",
    "print(model_fit.summary())"
   ]
  },
  {
   "cell_type": "markdown",
   "metadata": {},
   "source": [
    "Model interpretation\n",
    "-----\n",
    "\n",
    "This is the typical regression output. It's a lot to digest! \n",
    "\n",
    "Remember that our linear regression model can be represented as an equation, like this: \n",
    "\n",
    "    predicted_loan_amount = intercept + coef*lender_count\n",
    "\n",
    "What is the intercept value?   "
   ]
  },
  {
   "cell_type": "code",
   "execution_count": 8,
   "metadata": {},
   "outputs": [
    {
     "data": {
      "text/plain": [
       "385.4126864183964"
      ]
     },
     "execution_count": 8,
     "metadata": {},
     "output_type": "execute_result"
    }
   ],
   "source": [
    "model_fit.params.intercept"
   ]
  },
  {
   "cell_type": "markdown",
   "metadata": {},
   "source": [
    "What does that intercept value tell us?\n",
    "\n",
    "<br>\n",
    "<br>\n",
    "<br>"
   ]
  },
  {
   "cell_type": "markdown",
   "metadata": {},
   "source": [
    "What is the coefficent for `lender_count`?"
   ]
  },
  {
   "cell_type": "code",
   "execution_count": 9,
   "metadata": {},
   "outputs": [
    {
     "data": {
      "text/plain": [
       "31.217979063228615"
      ]
     },
     "execution_count": 9,
     "metadata": {},
     "output_type": "execute_result"
    }
   ],
   "source": [
    "model_fit.params.lender_count"
   ]
  },
  {
   "cell_type": "markdown",
   "metadata": {},
   "source": [
    "What does that coeffiecent value tell us?\n",
    "\n",
    "<br>\n",
    "<br>\n",
    "<br>\n",
    "-----\n",
    "\n",
    "How do we know however, whether this is a significant result?\n",
    "\n",
    "We have a sufficient amount of confidence in this conclusion because the **p-value** is reported to be 0.000. In technical terms, the p-value is **the probability of getting results as extreme as the ones observed given no correlation. **\n",
    "\n",
    "In statistics, we want our results to fall within the 95% confidence interval, or the p-value to be <= 0.05. This means, \"[i]f repeated samples were taken and the 95% confidence interval was computed for each sample, 95% of the intervals would contain the population mean. A 95% confidence interval has a 0.95 probability of containing the population mean. 95% of the population distribution is contained in the confidence interval.\" [Read more here.](http://www.investopedia.com/terms/s/standard-error.asp) The p-value is an indicator of where we fall in the confidence interval. In English, small p-value (<= 0.05) indicates strong evidence that the coefficient is different than 0. \n",
    "\n",
    "This is a relatively simplified explanation of p-values. Don't worry if it's not immediately intuitive - [not even professional statisticians can easily explain this concept.](http://fivethirtyeight.com/features/not-even-scientists-can-easily-explain-p-values/) To get a deeper understanding, we recommend grabbing the nearest textbook on statistics to review! \n"
   ]
  },
  {
   "cell_type": "markdown",
   "metadata": {},
   "source": [
    "Let's test our model on our test set."
   ]
  },
  {
   "cell_type": "code",
   "execution_count": 10,
   "metadata": {},
   "outputs": [],
   "source": [
    "y_pred_test = model_fit.predict(X_test)"
   ]
  },
  {
   "cell_type": "code",
   "execution_count": 11,
   "metadata": {},
   "outputs": [
    {
     "data": {
      "image/png": "[encoded data removed]",
      "text/plain": [
       "<Figure size 648x504 with 1 Axes>"
      ]
     },
     "metadata": {},
     "output_type": "display_data"
    }
   ],
   "source": [
    "plt.figure(figsize=(9,7))\n",
    "plt.scatter(y_pred_test, y_test, alpha=0.5, c='r')\n",
    "plt.title('predicted vs true for test data')\n",
    "plt.xlabel('predicted loan amounts')\n",
    "plt.ylabel('True loan amounts')\n",
    "axes = plt.gca()\n",
    "axes.set_xlim([0,11000])\n",
    "axes.set_ylim([0,10000])\n",
    "plt.show();"
   ]
  },
  {
   "cell_type": "markdown",
   "metadata": {},
   "source": [
    "Our model seems to be consistently under-predicting loan amounts (most of the dots seem to be above the line y=x).  We will try to improve this model using multivariate regression."
   ]
  },
  {
   "cell_type": "markdown",
   "metadata": {},
   "source": [
    "\n",
    "**Before we start looking for other explanatory features, it is important to note that interpretation of the results above is only valid if the assumptions of linear regression are not violated. Lets go through these assumptions now...**"
   ]
  },
  {
   "cell_type": "markdown",
   "metadata": {},
   "source": [
    "<br>\n",
    "<br> \n",
    "<br>\n",
    "\n",
    "----"
   ]
  }
 ],
 "metadata": {
  "kernelspec": {
   "display_name": "Python 3",
   "language": "python",
   "name": "python3"
  },
  "language_info": {
   "codemirror_mode": {
    "name": "ipython",
    "version": 3
   },
   "file_extension": ".py",
   "mimetype": "text/x-python",
   "name": "python",
   "nbconvert_exporter": "python",
   "pygments_lexer": "ipython3",
   "version": "3.8.8"
  },
  "toc": {
   "base_numbering": 1,
   "nav_menu": {},
   "number_sections": false,
   "sideBar": false,
   "skip_h1_title": false,
   "title_cell": "Table of Contents",
   "title_sidebar": "Contents",
   "toc_cell": true,
   "toc_position": {},
   "toc_section_display": true,
   "toc_window_display": false
  }
 },
 "nbformat": 4,
 "nbformat_minor": 2
}
